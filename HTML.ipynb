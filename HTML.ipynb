{
  "nbformat": 4,
  "nbformat_minor": 0,
  "metadata": {
    "colab": {
      "provenance": []
    },
    "kernelspec": {
      "name": "python3",
      "display_name": "Python 3"
    },
    "language_info": {
      "name": "python"
    }
  },
  "cells": [
    {
      "cell_type": "markdown",
      "source": [
        "# Getting Started with HTML"
      ],
      "metadata": {
        "id": "p7bE3Ks9uFo4"
      }
    },
    {
      "cell_type": "code",
      "execution_count": 1,
      "metadata": {
        "id": "qN-JEmmvtl5M",
        "colab": {
          "base_uri": "https://localhost:8080/",
          "height": 106
        },
        "outputId": "4ca02744-d7be-449b-a5ac-efc4c0885d1b"
      },
      "outputs": [
        {
          "output_type": "error",
          "ename": "SyntaxError",
          "evalue": "invalid syntax (<ipython-input-1-e04be699d268>, line 3)",
          "traceback": [
            "\u001b[0;36m  File \u001b[0;32m\"<ipython-input-1-e04be699d268>\"\u001b[0;36m, line \u001b[0;32m3\u001b[0m\n\u001b[0;31m    <!DOCTYPE html>\u001b[0m\n\u001b[0m    ^\u001b[0m\n\u001b[0;31mSyntaxError\u001b[0m\u001b[0;31m:\u001b[0m invalid syntax\n"
          ]
        }
      ],
      "source": [
        "```html\n",
        "# 1) Write a simple program in HTML  that displays the heading \"HTML defines the content and structure of your website” on the web browser?\n",
        "\n",
        "<!DOCTYPE html>\n",
        "<html>\n",
        "<head>\n",
        "    <title>HTML Basics</title>\n",
        "</head>\n",
        "<body>\n",
        "    <h1>HTML defines the content and structure of your website</h1>\n",
        "</body>\n",
        "</html>\n",
        "```\n",
        "    <title>HTML Basics</title>\n",
        "</head>\n",
        "<body>\n",
        "    <h1>HTML defines the content and structure of your website</h1>\n",
        "</body>\n",
        "</html>\n"
      ]
    },
    {
      "cell_type": "markdown",
      "source": [
        "2. Explain the purpose of comments in HTML and provide an example of how to use comments in an HTML documents?\n",
        "- Purpose of Comments in HTML with Example\n",
        "\n",
        "Purpose: Comments are used to add notes in the code without affecting the output. They help in documentation and debugging."
      ],
      "metadata": {
        "id": "UhIOAQHguEy-"
      }
    },
    {
      "cell_type": "code",
      "source": [
        "'''Example'''\n",
        "\n",
        "<!-- This is a comment in HTML -->\n",
        "<p>This is a paragraph.</p>\n"
      ],
      "metadata": {
        "id": "N1-sMF0NvAWw"
      },
      "execution_count": null,
      "outputs": []
    },
    {
      "cell_type": "markdown",
      "source": [],
      "metadata": {
        "id": "bvVYqNxCuCU6"
      }
    },
    {
      "cell_type": "code",
      "source": [
        "# 3) Write an HTML program that includes a heading, a paragraph of text, a horizontal line, and a line break. Arrange these elements to create a simple web page layout?\n",
        "\n",
        "```html\n",
        "# 3) Write an HTML program that includes a heading, a paragraph of text, a horizontal line, and a line break. Arrange these elements to create a simple web page layout?\n",
        "\n",
        "<!DOCTYPE html>\n",
        "<html>\n",
        "<head>\n",
        "    <title>Simple Web Page</title>\n",
        "</head>\n",
        "<body>\n",
        "    <h1>Welcome to My Web Page</h1>\n",
        "    <p>This is a paragraph explaining the content of the page.</p>\n",
        "    <hr> <!-- Horizontal line -->\n",
        "    <p>This is another paragraph.<br> This part is on a new line.</p>\n",
        "</body>\n",
        "</html>\n",
        "```\n",
        "<body>\n",
        "    <h1>Welcome to My Web Page</h1>\n",
        "    <p>This is a paragraph explaining the content of the page.</p>\n",
        "    <hr> <!-- Horizontal line -->\n",
        "    <p>This is another paragraph.<br> This part is on a new line.</p>\n",
        "</body>\n",
        "</html>\n",
        "\n"
      ],
      "metadata": {
        "colab": {
          "base_uri": "https://localhost:8080/",
          "height": 106
        },
        "id": "bKKVBTamvAp_",
        "outputId": "44f886ff-a528-46d7-9604-45151755532b"
      },
      "execution_count": 4,
      "outputs": [
        {
          "output_type": "error",
          "ename": "SyntaxError",
          "evalue": "invalid syntax (<ipython-input-4-17059f7f621c>, line 5)",
          "traceback": [
            "\u001b[0;36m  File \u001b[0;32m\"<ipython-input-4-17059f7f621c>\"\u001b[0;36m, line \u001b[0;32m5\u001b[0m\n\u001b[0;31m    <head>\u001b[0m\n\u001b[0m    ^\u001b[0m\n\u001b[0;31mSyntaxError\u001b[0m\u001b[0;31m:\u001b[0m invalid syntax\n"
          ]
        }
      ]
    },
    {
      "cell_type": "code",
      "source": [
        "#  4) Write a short note on Tag and element with an example?\n",
        "''' Short Note on Tag and Element with Example\n",
        "\n",
        "Tag: A tag is a part of an HTML element, enclosed in < >. Example: <p>.\n",
        "Element: An element includes an opening tag, content, and a closing tag. Example:'''\n",
        "\n",
        "<p>This is an HTML element.</p>"
      ],
      "metadata": {
        "id": "4G8Ng6N1w03P"
      },
      "execution_count": null,
      "outputs": []
    },
    {
      "cell_type": "code",
      "source": [
        "# 5) What is the DOCTYPE Declaration in HTML?\n",
        "\n",
        "'''Definition: <!DOCTYPE html> defines the document type and version of HTML.\n",
        "Purpose: Ensures the browser renders the page correctly in standard mode.\n",
        "Example:'''\n",
        "\n",
        "<!DOCTYPE html>\n",
        "<html>\n",
        "<head>\n",
        "    <title>My Page</title>\n",
        "</head>\n",
        "<body>\n",
        "    <p>Hello, World!</p>\n",
        "</body>\n",
        "</html>"
      ],
      "metadata": {
        "id": "XJAMInV7wm0k"
      },
      "execution_count": null,
      "outputs": []
    }
  ]
}